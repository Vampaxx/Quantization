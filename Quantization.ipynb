{
 "cells": [
  {
   "cell_type": "markdown",
   "id": "1e818f9c",
   "metadata": {},
   "source": [
    "## Create a simple tensor"
   ]
  },
  {
   "cell_type": "code",
   "execution_count": 1,
   "id": "52e677a1",
   "metadata": {},
   "outputs": [],
   "source": [
    "import numpy as np"
   ]
  },
  {
   "cell_type": "code",
   "execution_count": 2,
   "id": "c0882821",
   "metadata": {},
   "outputs": [
    {
     "data": {
      "text/plain": [
       "array([147.88164384,  16.53920486, -31.67630212, 149.2267514 ,\n",
       "       -14.64601647,  10.08392699,  86.49534   , -32.1181407 ,\n",
       "       -37.48593118,  23.49493515, 107.36634257, -46.98736717,\n",
       "       -20.80065127,  76.85067652,  86.09366675, -46.79494473,\n",
       "       -47.5148938 ,  73.62558311, -33.12192922, 121.17281763])"
      ]
     },
     "execution_count": 2,
     "metadata": {},
     "output_type": "execute_result"
    }
   ],
   "source": [
    "params = np.random.uniform(low=-50,high=150,size=20)\n",
    "params"
   ]
  },
  {
   "cell_type": "code",
   "execution_count": 3,
   "id": "c06aba43",
   "metadata": {},
   "outputs": [],
   "source": [
    "## maek sure important values are at the begining for better debugging\n",
    "## For better understanding\n",
    "params[0] = params.max() + 1 \n",
    "params[1] = params.min() - 1\n",
    "params[2] = 0"
   ]
  },
  {
   "cell_type": "code",
   "execution_count": 4,
   "id": "7c4f2c70",
   "metadata": {},
   "outputs": [
    {
     "name": "stdout",
     "output_type": "stream",
     "text": [
      "[150.2267514  -48.5148938    0.         149.2267514  -14.64601647\n",
      "  10.08392699  86.49534    -32.1181407  -37.48593118  23.49493515\n",
      " 107.36634257 -46.98736717 -20.80065127  76.85067652  86.09366675\n",
      " -46.79494473 -47.5148938   73.62558311 -33.12192922 121.17281763]\n"
     ]
    }
   ],
   "source": [
    "print(params)"
   ]
  },
  {
   "cell_type": "code",
   "execution_count": 5,
   "id": "a74c5942",
   "metadata": {},
   "outputs": [
    {
     "data": {
      "text/plain": [
       "array([150.23, -48.51,   0.  , 149.23, -14.65,  10.08,  86.5 , -32.12,\n",
       "       -37.49,  23.49, 107.37, -46.99, -20.8 ,  76.85,  86.09, -46.79,\n",
       "       -47.51,  73.63, -33.12, 121.17])"
      ]
     },
     "execution_count": 5,
     "metadata": {},
     "output_type": "execute_result"
    }
   ],
   "source": [
    "params = np.round(params,decimals=2)\n",
    "params"
   ]
  },
  {
   "cell_type": "markdown",
   "id": "48c66e47",
   "metadata": {},
   "source": [
    "## Define the Quantization method and Quantize"
   ]
  },
  {
   "cell_type": "code",
   "execution_count": 6,
   "id": "dc7e8f4f",
   "metadata": {},
   "outputs": [],
   "source": [
    "def clamp(params_q:np.array,lower_bound:int,upper_bound:int) -> np.array:\n",
    "    \n",
    "    params_q[params_q<lower_bound] = lower_bound\n",
    "    params_q[params_q>upper_bound] = upper_bound\n",
    "    return params_q\n",
    "\n",
    "def asymmetric_quantization(params:np.array,bits:int) -> tuple[np.array,float,int]:\n",
    "    alpha  = params.max()\n",
    "    beta   = params.min()\n",
    "    scale  = (alpha- beta) / (2**bits - 1)\n",
    "    zero   = -1 * np.round(beta / scale)\n",
    "    lower_bound,upper_bound = 0, 2**bits - 1\n",
    "    \n",
    "    # Quantize the parameters\n",
    "    quantize = clamp(np.round(params / scale + zero),lower_bound,upper_bound).astype(np.int32)\n",
    "    \n",
    "    return quantize,scale,zero\n",
    " \n",
    "def asymmetric_dequantize(params_q:np.array, scale:float, zero:int) -> np.array:\n",
    "    return (params_q - zero) * scale\n",
    "\n",
    "def symmetric_dequantize(params_q:np.array,scale:float) -> np.array:\n",
    "    return params_q * scale\n",
    "\n",
    "def symmetric_quantization(params: np.array, bits: int) -> tuple[np.array, float]:\n",
    "    \n",
    "    alpha = np.max(np.abs(params))\n",
    "    scale = alpha / (2**(bits-1)-1)\n",
    "    lower_bound = -2**(bits-1)\n",
    "    upper_bound = 2**(bits-1)-1\n",
    "    \n",
    "    quantized = clamp(np.round(params / scale), lower_bound, upper_bound).astype(np.int32)\n",
    "    return quantized, scale\n",
    "\n",
    "def quantization_error(params: np.array, params_q: np.array):\n",
    "    # calculate the MSE\n",
    "    return np.mean((params - params_q)**2)\n",
    "\n",
    "(asymmetric_q, asymmetric_scale, asymmetric_zero) = asymmetric_quantization(params, 8)\n",
    "(symmetric_q, symmetric_scale)                    = symmetric_quantization(params, 8) "
   ]
  },
  {
   "cell_type": "code",
   "execution_count": 7,
   "id": "d0788d37",
   "metadata": {},
   "outputs": [
    {
     "name": "stdout",
     "output_type": "stream",
     "text": [
      "Original:\n",
      "[150.23 -48.51   0.   149.23 -14.65  10.08  86.5  -32.12 -37.49  23.49\n",
      " 107.37 -46.99 -20.8   76.85  86.09 -46.79 -47.51  73.63 -33.12 121.17]\n",
      "\n",
      "Asymmetric scale: 0.7793725490196077,\n",
      " zero: 62.0\n",
      "[255.  -0.  62. 253.  43.  75. 173.  21.  14.  92. 200.   2.  35. 161.\n",
      " 172.   2.   1. 156.  20. 217.]\n",
      "\n",
      "Symmetric scale: 1.1829133858267715\n",
      "[127 -41   0 126 -12   9  73 -27 -32  20  91 -40 -18  65  73 -40 -40  62\n",
      " -28 102]\n"
     ]
    }
   ],
   "source": [
    "print(f'Original:')\n",
    "print(np.round(params, 2))\n",
    "print('')\n",
    "print(f'Asymmetric scale: {asymmetric_scale},\\n zero: {asymmetric_zero}')\n",
    "print(asymmetric_q)\n",
    "print('')\n",
    "print(f'Symmetric scale: {symmetric_scale}')\n",
    "print(symmetric_q)"
   ]
  },
  {
   "cell_type": "code",
   "execution_count": 8,
   "id": "b681fd4c",
   "metadata": {},
   "outputs": [
    {
     "data": {
      "text/plain": [
       "62.0"
      ]
     },
     "execution_count": 8,
     "metadata": {},
     "output_type": "execute_result"
    }
   ],
   "source": [
    "asymmetric_zero"
   ]
  },
  {
   "cell_type": "code",
   "execution_count": 9,
   "id": "bddd328d",
   "metadata": {},
   "outputs": [
    {
     "name": "stdout",
     "output_type": "stream",
     "text": [
      "Original:\n",
      "[150.23 -48.51   0.   149.23 -14.65  10.08  86.5  -32.12 -37.49  23.49\n",
      " 107.37 -46.99 -20.8   76.85  86.09 -46.79 -47.51  73.63 -33.12 121.17]\n",
      "\n",
      "Dequantize Asymmetric:\n",
      "[150.42 -48.32   0.   148.86 -14.81  10.13  86.51 -31.95 -37.41  23.38\n",
      " 107.55 -46.76 -21.04  77.16  85.73 -46.76 -47.54  73.26 -32.73 120.8 ]\n",
      "\n",
      "Dequantize Symmetric:\n",
      "[150.23 -48.5    0.   149.05 -14.19  10.65  86.35 -31.94 -37.85  23.66\n",
      " 107.65 -47.32 -21.29  76.89  86.35 -47.32 -47.32  73.34 -33.12 120.66]\n"
     ]
    }
   ],
   "source": [
    "# Dequantize the parameters back to 32 bits\n",
    "params_deq_asymmetric = asymmetric_dequantize(asymmetric_q, asymmetric_scale, asymmetric_zero)\n",
    "params_deq_symmetric = symmetric_dequantize(symmetric_q, symmetric_scale,)\n",
    "\n",
    "print(f'Original:')\n",
    "print(np.round(params, 2))\n",
    "print('')\n",
    "print(f'Dequantize Asymmetric:')\n",
    "print(np.round(params_deq_asymmetric,2))\n",
    "print('')\n",
    "print(f'Dequantize Symmetric:')\n",
    "print(np.round(params_deq_symmetric, 2))"
   ]
  },
  {
   "cell_type": "code",
   "execution_count": 10,
   "id": "94b5ee93",
   "metadata": {},
   "outputs": [
    {
     "name": "stdout",
     "output_type": "stream",
     "text": [
      "  Asymmetric error: 0.05\n",
      "   Symmetric error: 0.1\n"
     ]
    }
   ],
   "source": [
    "# Calculate the quantization error\n",
    "print(f'{\"Asymmetric error: \":>20}{np.round(quantization_error(params, params_deq_asymmetric), 2)}')\n",
    "print(f'{\"Symmetric error: \":>20}{np.round(quantization_error(params, params_deq_symmetric), 2)}')"
   ]
  },
  {
   "cell_type": "code",
   "execution_count": null,
   "id": "5360c309",
   "metadata": {},
   "outputs": [],
   "source": []
  }
 ],
 "metadata": {
  "kernelspec": {
   "display_name": "Python 3 (ipykernel)",
   "language": "python",
   "name": "python3"
  },
  "language_info": {
   "codemirror_mode": {
    "name": "ipython",
    "version": 3
   },
   "file_extension": ".py",
   "mimetype": "text/x-python",
   "name": "python",
   "nbconvert_exporter": "python",
   "pygments_lexer": "ipython3",
   "version": "3.11.5"
  }
 },
 "nbformat": 4,
 "nbformat_minor": 5
}
