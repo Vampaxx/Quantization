{
 "cells": [
  {
   "cell_type": "code",
   "execution_count": 1,
   "id": "78be4ed6",
   "metadata": {},
   "outputs": [],
   "source": [
    "import numpy as np"
   ]
  },
  {
   "cell_type": "markdown",
   "id": "8b93adc6",
   "metadata": {},
   "source": [
    "## Create a simple tensor with random items"
   ]
  },
  {
   "cell_type": "code",
   "execution_count": 8,
   "id": "9ab9c51c",
   "metadata": {},
   "outputs": [],
   "source": [
    "params = np.random.uniform(-50,150,size=10000)\n",
    "\n",
    "## Introduce an outlier\n",
    "params[-1] = 1000\n",
    "params     = np.round(params,2)"
   ]
  },
  {
   "cell_type": "markdown",
   "id": "2cf86b0a",
   "metadata": {},
   "source": [
    "## Define the Quantization method and Quantize"
   ]
  },
  {
   "cell_type": "code",
   "execution_count": 12,
   "id": "627d162c",
   "metadata": {},
   "outputs": [],
   "source": [
    "def clamp(params_q:np.array,lower_bound:int,upper_bound:int) -> np.array:\n",
    "    \n",
    "    params_q[params_q<lower_bound] = lower_bound\n",
    "    params_q[params_q>upper_bound] = upper_bound\n",
    "    return params_q\n",
    "\n",
    "def asymmetric_quantization(params:np.array,bits:int) -> tuple[np.array,float,int]:\n",
    "    alpha  = params.max()\n",
    "    beta   = params.min()\n",
    "    scale  = (alpha- beta) / (2**bits - 1)\n",
    "    zero   = -1 * np.round(beta / scale)\n",
    "    lower_bound,upper_bound = 0, 2**bits - 1\n",
    "    \n",
    "    # Quantize the parameters\n",
    "    quantize = clamp(np.round(params / scale + zero),lower_bound,upper_bound).astype(np.int32)\n",
    "    \n",
    "    return quantize,scale,zero\n",
    "\n",
    "\n",
    "def asymmetric_quantization_percentile(params: np.array, bits: int, percentile: float = 99.99) -> tuple[np.array, float, int]:\n",
    "\n",
    "    alpha = np.percentile(params, percentile)\n",
    "    beta  = np.percentile(params, 100-percentile)\n",
    "    scale = (alpha - beta) / (2**bits-1)\n",
    "    zero  = -1*np.round(beta / scale)\n",
    "    \n",
    "    lower_bound, upper_bound = 0, 2**bits-1\n",
    "    quantized = clamp(np.round(params / scale + zero), lower_bound, upper_bound).astype(np.int32)\n",
    "    return quantized, scale, zero\n",
    " \n",
    "def asymmetric_dequantize(params_q:np.array, scale:float, zero:int) -> np.array:\n",
    "    return (params_q - zero) * scale\n",
    "\n",
    "def quantization_error(params: np.array, params_q: np.array):\n",
    "    # calculate the MSE\n",
    "    return np.mean((params - params_q)**2)\n"
   ]
  },
  {
   "cell_type": "code",
   "execution_count": 13,
   "id": "22685e13",
   "metadata": {},
   "outputs": [],
   "source": [
    "(asymmetric_q, asymmetric_scale, asymmetric_zero)                                  = asymmetric_quantization(params, 8)\n",
    "(asymmetric_q_percentile, asymmetric_scale_percentile, asymmetric_zero_percentile) = asymmetric_quantization_percentile(params, 8)"
   ]
  },
  {
   "cell_type": "code",
   "execution_count": 14,
   "id": "0d671170",
   "metadata": {},
   "outputs": [
    {
     "name": "stdout",
     "output_type": "stream",
     "text": [
      "Original:\n",
      "[  97.93  -40.98   95.21 ...   25.41  118.46 1000.  ]\n",
      "\n",
      "Asymmetric (min-max) scale: 4.117529411764706, zero: 12.0\n",
      "[ 36   2  35 ...  18  41 255]\n",
      "\n",
      "Asymmetric (percentile) scale: 0.7844901999976426, zero: 64.0\n",
      "[189  12 185 ...  96 215 255]\n"
     ]
    }
   ],
   "source": [
    "print(f'Original:')\n",
    "print(np.round(params, 2))\n",
    "print('')\n",
    "print(f'Asymmetric (min-max) scale: {asymmetric_scale}, zero: {asymmetric_zero}')\n",
    "print(asymmetric_q)\n",
    "print(f'')\n",
    "print(f'Asymmetric (percentile) scale: {asymmetric_scale_percentile}, zero: {asymmetric_zero_percentile}')\n",
    "print(asymmetric_q_percentile)"
   ]
  },
  {
   "cell_type": "code",
   "execution_count": 15,
   "id": "b5292ef3",
   "metadata": {},
   "outputs": [],
   "source": [
    "# Dequantize the parameters back to 32 bits\n",
    "params_deq_asymmetric = asymmetric_dequantize(asymmetric_q, asymmetric_scale, asymmetric_zero)\n",
    "params_deq_asymmetric_percentile = asymmetric_dequantize(asymmetric_q_percentile, asymmetric_scale_percentile, asymmetric_zero_percentile)\n"
   ]
  },
  {
   "cell_type": "code",
   "execution_count": 16,
   "id": "0812757a",
   "metadata": {},
   "outputs": [
    {
     "name": "stdout",
     "output_type": "stream",
     "text": [
      "Original:\n",
      "[  97.93  -40.98   95.21 ...   25.41  118.46 1000.  ]\n",
      "\n",
      "Dequantized (min-max):\n",
      "[  98.82  -41.18   94.7  ...   24.71  119.41 1000.56]\n",
      "\n",
      "Dequantized (percentile):\n",
      "[ 98.06 -40.79  94.92 ...  25.1  118.46 149.84]\n"
     ]
    }
   ],
   "source": [
    "print(f'Original:')\n",
    "print(np.round(params, 2))\n",
    "print('')\n",
    "print(f'Dequantized (min-max):')\n",
    "print(np.round(params_deq_asymmetric,2))\n",
    "print('')\n",
    "print(f'Dequantized (percentile):')\n",
    "print(np.round(params_deq_asymmetric_percentile,2))"
   ]
  },
  {
   "cell_type": "markdown",
   "id": "156fe027",
   "metadata": {},
   "source": [
    "## Evaluate the quantization error (excluding the outlier)"
   ]
  },
  {
   "cell_type": "code",
   "execution_count": 33,
   "id": "aaa14723",
   "metadata": {},
   "outputs": [
    {
     "name": "stdout",
     "output_type": "stream",
     "text": [
      "     Error (min-max) excluding outlier: 1.4\n",
      "  Error (percentile) excluding outlier: 0.05\n"
     ]
    }
   ],
   "source": [
    "# Calculate the quantization error\n",
    "print(f'{\"Error (min-max) excluding outlier: \":>40}{np.round(quantization_error(params[:-1], params_deq_asymmetric[:-1]),2)}')\n",
    "print(f'{\"Error (percentile) excluding outlier: \":>40}{np.round(quantization_error(params[:-1], params_deq_asymmetric_percentile[:-1]), 2)}')\n"
   ]
  }
 ],
 "metadata": {
  "kernelspec": {
   "display_name": "Python 3 (ipykernel)",
   "language": "python",
   "name": "python3"
  },
  "language_info": {
   "codemirror_mode": {
    "name": "ipython",
    "version": 3
   },
   "file_extension": ".py",
   "mimetype": "text/x-python",
   "name": "python",
   "nbconvert_exporter": "python",
   "pygments_lexer": "ipython3",
   "version": "3.11.5"
  }
 },
 "nbformat": 4,
 "nbformat_minor": 5
}
